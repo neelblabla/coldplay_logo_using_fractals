{
 "cells": [
  {
   "cell_type": "markdown",
   "metadata": {},
   "source": [
    "# COLDPLAY\n",
    "Fractal"
   ]
  },
  {
   "cell_type": "code",
   "execution_count": 1,
   "metadata": {},
   "outputs": [
    {
     "name": "stdout",
     "output_type": "stream",
     "text": [
      "pygame 2.1.2 (SDL 2.0.18, Python 3.9.12)\n",
      "Hello from the pygame community. https://www.pygame.org/contribute.html\n"
     ]
    }
   ],
   "source": [
    "import pygame\n",
    "import random\n",
    "import math\n",
    "import colorsys\n",
    "from pygame.locals import *\n",
    "\n",
    "idx = [0, 0, 0]"
   ]
  },
  {
   "cell_type": "code",
   "execution_count": 2,
   "metadata": {},
   "outputs": [],
   "source": [
    "def mark_pixel(surface, pos, pcol):\n",
    "    col = surface.get_at(pos)\n",
    "    surface.set_at(pos, (min(col[0] + pcol[0]/10, 255),\n",
    "                         min(col[1] + pcol[1]/10, 255),\n",
    "                         min(col[2] + pcol[2]/10, 255)))"
   ]
  },
  {
   "cell_type": "code",
   "execution_count": 3,
   "metadata": {},
   "outputs": [],
   "source": [
    "def random_point_index(p):\n",
    "    global idx\n",
    "    idx[2] = idx[1]\n",
    "    idx[1] = idx[0]\n",
    "    dst1 = abs(idx[1] - idx[2])\n",
    "\n",
    "    while True:\n",
    "        idx[0] = random.randint(0, len(p) - 1)  # Purely random selection, the rest is just applying constraints\n",
    "        dst = abs(idx[0] - idx[1])\n",
    "        if dst1 == 0 and (dst == 1 or dst == len(p) - 1):\n",
    "            continue\n",
    "        else:\n",
    "            break\n",
    "\n",
    "    return idx[0]"
   ]
  },
  {
   "cell_type": "code",
   "execution_count": 4,
   "metadata": {},
   "outputs": [],
   "source": [
    "def init_polygon(width, height, n):\n",
    "    delta_angle = 360/n\n",
    "    r = width/2 - 10\n",
    "    p = []\n",
    "\n",
    "    for i in range(0, n):\n",
    "        angle = (240 + i*delta_angle) * math.pi / 180\n",
    "        color = colorsys.hsv_to_rgb((i*delta_angle)/360, 0.8, 1)\n",
    "        p.append(((width/2 + r*math.sin(angle),\n",
    "                   height/2 + r*math.cos(angle)),\n",
    "                  (int(color[1]*255), int(color[0]*255), int(color[2]*255))))\n",
    "    return p"
   ]
  },
  {
   "cell_type": "code",
   "execution_count": null,
   "metadata": {},
   "outputs": [],
   "source": [
    "def main(width, height, n, r):\n",
    "    pygame.init()\n",
    "    surface = pygame.display.set_mode((width, height))\n",
    "    pygame.display.set_caption('The Chaos Game')\n",
    "    \n",
    "    p = init_polygon(width, height, n)\n",
    "\n",
    "    x, y = (400, 300)\n",
    "    for i in range(0, width*height*3):\n",
    "        i = random_point_index(p)\n",
    "        x += (p[i][0][0] - x) * r\n",
    "        y += (p[i][0][1] - y) * r\n",
    "\n",
    "        mark_pixel(surface, (int(x), int(y)), p[i][1])\n",
    "        if i % 20 == 0:\n",
    "            pygame.display.update()\n",
    "\n",
    "        for event in pygame.event.get():\n",
    "            if event.type == QUIT:\n",
    "                pygame.quit()\n",
    "                return\n",
    "\n",
    "    #pygame.image.save(surface, 'chaosspiel.webp')\n",
    "    pygame.quit()\n",
    "\n",
    "if __name__ == \"__main__\":\n",
    "    main(500, 500, 5, 0.5)"
   ]
  }
 ],
 "metadata": {
  "kernelspec": {
   "display_name": "Python 3.9.12 ('base')",
   "language": "python",
   "name": "python3"
  },
  "language_info": {
   "codemirror_mode": {
    "name": "ipython",
    "version": 3
   },
   "file_extension": ".py",
   "mimetype": "text/x-python",
   "name": "python",
   "nbconvert_exporter": "python",
   "pygments_lexer": "ipython3",
   "version": "3.9.12"
  },
  "orig_nbformat": 4,
  "vscode": {
   "interpreter": {
    "hash": "40d3a090f54c6569ab1632332b64b2c03c39dcf918b08424e98f38b5ae0af88f"
   }
  }
 },
 "nbformat": 4,
 "nbformat_minor": 2
}
